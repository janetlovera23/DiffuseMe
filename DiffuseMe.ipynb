{
  "nbformat": 4,
  "nbformat_minor": 0,
  "metadata": {
    "colab": {
      "provenance": []
    },
    "kernelspec": {
      "name": "python3",
      "display_name": "Python 3"
    },
    "language_info": {
      "name": "python"
    }
  },
  "cells": [
    {
      "cell_type": "code",
      "execution_count": 5,
      "metadata": {
        "colab": {
          "base_uri": "https://localhost:8080/",
          "height": 261
        },
        "id": "a8-PC2BqFKw0",
        "outputId": "80ee97fd-6104-4289-dafd-7fc1bfe93e79"
      },
      "outputs": [
        {
          "output_type": "stream",
          "name": "stdout",
          "text": [
            "Looking in indexes: https://pypi.org/simple, https://us-python.pkg.dev/colab-wheels/public/simple/\n",
            "Requirement already satisfied: anvil-uplink in /usr/local/lib/python3.7/dist-packages (0.4.0)\n",
            "Collecting argparse\n",
            "  Using cached argparse-1.4.0-py2.py3-none-any.whl (23 kB)\n",
            "Requirement already satisfied: future in /usr/local/lib/python3.7/dist-packages (from anvil-uplink) (0.16.0)\n",
            "Requirement already satisfied: six in /usr/local/lib/python3.7/dist-packages (from anvil-uplink) (1.15.0)\n",
            "Requirement already satisfied: ws4py in /usr/local/lib/python3.7/dist-packages (from anvil-uplink) (0.5.1)\n",
            "Installing collected packages: argparse\n",
            "Successfully installed argparse-1.4.0\n"
          ]
        },
        {
          "output_type": "display_data",
          "data": {
            "application/vnd.colab-display-data+json": {
              "pip_warning": {
                "packages": [
                  "argparse"
                ]
              }
            }
          },
          "metadata": {}
        }
      ],
      "source": [
        "!pip install anvil-uplink\n",
        "\n",
        "from PIL import Image\n",
        "import matplotlib.pyplot as plt\n",
        "import anvil.media"
      ]
    },
    {
      "cell_type": "code",
      "source": [
        "import anvil.server\n",
        "anvil.server.connect(\"5HHM2SEHTN65O4SYX44QHG7V-M6NW5WURDBEU6QE7\")"
      ],
      "metadata": {
        "colab": {
          "base_uri": "https://localhost:8080/"
        },
        "id": "AlzsADQhFkaZ",
        "outputId": "1998a791-36a6-4f32-e834-28e052a6808e"
      },
      "execution_count": 2,
      "outputs": [
        {
          "output_type": "stream",
          "name": "stdout",
          "text": [
            "Connecting to wss://anvil.works/uplink\n",
            "Anvil websocket open\n",
            "Connected to \"Default environment\" as SERVER\n"
          ]
        }
      ]
    },
    {
      "cell_type": "code",
      "source": [
        "@anvil.server.callable\n",
        "def diffuse_image(file):\n",
        "    with anvil.media.TempFile(file) as filename:\n",
        "        upimg = load_img(filename)"
      ],
      "metadata": {
        "id": "G6WQb75lFphi"
      },
      "execution_count": 6,
      "outputs": []
    },
    {
      "cell_type": "code",
      "source": [
        "#Read image\n",
        "img=Image.open(upimg)#show image\n",
        "plt.imshow(img)\n",
        "plt.show()"
      ],
      "metadata": {
        "id": "I9iL9RN1FN8d"
      },
      "execution_count": null,
      "outputs": []
    },
    {
      "cell_type": "code",
      "source": [
        "small_img=img.resize((8,8),Image.BILINEAR)"
      ],
      "metadata": {
        "id": "dG_VzZD8FSxE"
      },
      "execution_count": null,
      "outputs": []
    },
    {
      "cell_type": "code",
      "source": [
        "#resize\n",
        "o_size=(1000,1000) #output size\n",
        "res=small_img.resize(o_size,Image.NEAREST)#save image\n",
        "res.save('pic_8x8.png')#display image\n",
        "plt.imshow(res)\n",
        "plt.show()"
      ],
      "metadata": {
        "id": "XsIiNOLdFTJS"
      },
      "execution_count": null,
      "outputs": []
    },
    {
      "cell_type": "code",
      "source": [
        "def diffuse_img(image):\n",
        "    \"\"\"\n",
        "    image: path to image file\n",
        "    i_size: size of the small image eg:(8,8)\n",
        "    o_size: output size eg:(10000,10000)\n",
        "    \"\"\"\n",
        "    i_size=(32,32)\n",
        "    o_size=img.size\n",
        "    #read file\n",
        "    with anvil.media.TempFile(file) as filename:\n",
        "        img = load_img(filename)\n",
        "\n",
        "        #img=Image.open(image)\n",
        "\n",
        "        #convert to small image\n",
        "        small_img=img.resize(i_size,Image.BILINEAR)\n",
        "\n",
        "        #resize to output size\n",
        "        res=small_img.resize(img.size, Image.NEAREST)\n",
        "\n",
        "        #Save output image\n",
        "        filename=f'pic_{i_size[0]}x{i_size[1]}.png'\n",
        "        res.save(filename)\n",
        "\n",
        "        return img\n",
        "\n",
        "    #Display images side by side\n",
        "    plt.figure(figsize=(16,10))\n",
        "    #original image\n",
        "    plt.subplot(1,2,1)\n",
        "    plt.title('Original image', size=18)\n",
        "    plt.imshow(img)   #display image\n",
        "    plt.axis('off')   #hide axis\n",
        "    #pixel art\n",
        "    plt.subplot(1,2,2)\n",
        "    plt.title(f'Pixel Art {i_size[0]}x{i_size[1]}', size=18)\n",
        "    plt.imshow(res)\n",
        "    plt.axis('off')\n",
        "    plt.show()"
      ],
      "metadata": {
        "id": "iTaDzf0ZFYOV"
      },
      "execution_count": 8,
      "outputs": []
    },
    {
      "cell_type": "code",
      "source": [
        "photo2pixelart(image='pic.jpg',i_size=(32,32),\n",
        "                    o_size=img.size)"
      ],
      "metadata": {
        "id": "4ugzNkGmFZuM"
      },
      "execution_count": null,
      "outputs": []
    }
  ]
}